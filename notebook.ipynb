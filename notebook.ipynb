{
 "cells": [
  {
   "cell_type": "markdown",
   "source": [
    "## Project description\n",
    "\n",
    "In this project I will explore the dataset 'Plant Data Set', and intuitively enough this dataset is about plants.\n",
    "Data has been extracted from the USDA plants database. It contains all plants in the database and the states of USA and Canada (in addition to Greenland and St. Pierre and Miquelon) where they occur. Originally each row includes name of the plant followed by a list of state abbreviations where it is found.\n"
   ],
   "metadata": {
    "collapsed": false
   }
  },
  {
   "cell_type": "code",
   "execution_count": 2,
   "outputs": [],
   "source": [
    "import numpy as np\n",
    "import matplotlib.pyplot as plt\n",
    "import pandas as pd\n",
    "from pyspark.ml.clustering import KMeans\n",
    "from pyspark.ml.stat import Correlation\n",
    "from pyspark.ml.feature import VectorAssembler, PCA\n",
    "from pyspark.ml.fpm import FPGrowth\n",
    "from pyspark.sql import SparkSession\n",
    "from pyspark.sql.types import StructType, StructField, StringType, Row, IntegerType, ArrayType, BooleanType\n",
    "from pyspark.sql.functions import udf\n",
    "from scipy.stats import chi2_contingency\n",
    "import seaborn as sns\n",
    "from tqdm.notebook import tqdm"
   ],
   "metadata": {
    "collapsed": false
   }
  },
  {
   "cell_type": "markdown",
   "source": [
    "### Dataset abbreviations are found [here](https://archive.ics.uci.edu/ml/machine-learning-databases/plants/stateabbr.txt)\n",
    "\n",
    "To see connections between countries in addition to states I seperated the states into different lists based on country. It may be difficult to draw any conclusions since the number of states is highly unbalanced."
   ],
   "metadata": {
    "collapsed": false
   }
  },
  {
   "cell_type": "code",
   "execution_count": 3,
   "outputs": [
    {
     "data": {
      "text/plain": "<Figure size 720x504 with 1 Axes>",
      "image/png": "[encoded data removed]"
     },
     "metadata": {},
     "output_type": "display_data"
    }
   ],
   "source": [
    "us_states = ['ab', 'ak', 'ar', 'az', 'ca', 'co', 'ct', 'de', 'dc', 'fl', 'ga', 'hi', 'id', 'il', 'in', 'ia',\n",
    "             'ks', 'ky', 'la', 'me', 'md', 'ma', 'mi', 'mn', 'ms', 'mo', 'mt', 'ne', 'nv', 'nh', 'nj', 'nm',\n",
    "             'ny', 'nc', 'nd', 'oh', 'ok', 'or', 'pa', 'pr', 'ri', 'sc', 'sd', 'tn', 'tx', 'ut', 'vt', 'va',\n",
    "             'vi', 'wa', 'wv', 'wi',\n",
    "            'wy']\n",
    "\n",
    "canada_states = ['al', 'bc', 'mb', 'nb', 'lb', 'nf', 'nt', 'ns', 'nu', 'on', 'pe', 'qc',\n",
    "                 'sk', 'yt',]\n",
    "\n",
    "denmark_state = ['dengl'] # Greenland\n",
    "\n",
    "france_state = ['fraspm'] # St. Pierre and Miquelon\n",
    "\n",
    "\n",
    "# Countries in dataset\n",
    "countries = ['USA', 'Canada', 'Denmark',\n",
    "        'France']\n",
    "\n",
    "num_states = [len(us_states), len(canada_states), len(denmark_state), len(france_state)]\n",
    "\n",
    "# Creating Pie chart based on states in each country\n",
    "plt.figure(figsize =(10, 7))\n",
    "plt.pie(num_states, labels = countries)\n",
    "\n",
    "plt.show()"
   ],
   "metadata": {
    "collapsed": false
   }
  },
  {
   "cell_type": "markdown",
   "source": [
    "### Importing dataset\n",
    "Dataset was downloaded from [Plant Data Set on uci](https://archive.ics.uci.edu/ml/machine-learning-databases/plants/plants.data) and placed in project root directory.\n",
    "\n",
    "##\n",
    "\n",
    "#### The data rows follow a pattern:\n",
    "\n",
    "Name,list of states where it exists\n",
    "\n",
    "abelia,fl,nc\n",
    "abelia x grandiflora,fl,nc\n",
    "abelmoschus,ct,dc,fl,hi,il,ky,la,md,mi,ms,nc,sc,va,pr,vi\n",
    "abelmoschus esculentus,ct,dc,fl,il,ky,la,md,mi,ms,nc,sc,va,pr,vi\n",
    "abelmoschus moschatus,hi,pr\n",
    "\n",
    "To convert this into a usable dataframe I am going to set columns to name and all states and an integer 1 or 0 based on the plant occur in the state"
   ],
   "metadata": {
    "collapsed": false
   }
  },
  {
   "cell_type": "code",
   "execution_count": 6,
   "outputs": [
    {
     "name": "stderr",
     "output_type": "stream",
     "text": [
      "Setting default log level to \"WARN\".\n",
      "To adjust logging level use sc.setLogLevel(newLevel). For SparkR, use setLogLevel(newLevel).\n"
     ]
    },
    {
     "name": "stdout",
     "output_type": "stream",
     "text": [
      "23/02/15 02:03:50 WARN NativeCodeLoader: Unable to load native-hadoop library for your platform... using builtin-java classes where applicable\n",
      "23/02/15 02:03:56 WARN package: Truncated the string representation of a plan since it was too large. This behavior can be adjusted by setting 'spark.sql.debug.maxToStringFields'.\n"
     ]
    },
    {
     "name": "stderr",
     "output_type": "stream",
     "text": [
      "                                                                                \r"
     ]
    },
    {
     "name": "stdout",
     "output_type": "stream",
     "text": [
      "+----------------------+---+---+---+---+---+---+---+---+---+---+---+---+---+---+\n",
      "|name                  |ab |ak |ar |az |ca |co |ct |de |dc |fl |ga |hi |id |il |\n",
      "+----------------------+---+---+---+---+---+---+---+---+---+---+---+---+---+---+\n",
      "|abelia                |0  |0  |0  |0  |0  |0  |0  |0  |0  |1  |0  |0  |0  |0  |\n",
      "|abelia x grandiflora  |0  |0  |0  |0  |0  |0  |0  |0  |0  |1  |0  |0  |0  |0  |\n",
      "|abelmoschus           |0  |0  |0  |0  |0  |0  |1  |0  |1  |1  |0  |1  |0  |1  |\n",
      "|abelmoschus esculentus|0  |0  |0  |0  |0  |0  |1  |0  |1  |1  |0  |0  |0  |1  |\n",
      "|abelmoschus moschatus |0  |0  |0  |0  |0  |0  |0  |0  |0  |0  |0  |1  |0  |0  |\n",
      "+----------------------+---+---+---+---+---+---+---+---+---+---+---+---+---+---+\n",
      "only showing top 5 rows\n",
      "\n"
     ]
    }
   ],
   "source": [
    "# Start a Spark session\n",
    "spark = SparkSession.builder.appName(\"CreateDF\").master(\"local[*]\").config(\"spark.executor.memory\", \"2g\").config(\"spark.driver.memory\", \"2g\").getOrCreate()\n",
    "\n",
    "# Path to dataset\n",
    "url = 'plants.data'\n",
    "\n",
    "state_abbreviations =  us_states + canada_states + denmark_state + france_state\n",
    "features = ['name'] + state_abbreviations\n",
    "\n",
    "# Read the CSV file into a RDD\n",
    "rdd = spark.sparkContext.textFile(url)\n",
    "\n",
    "# Define the schema for the DataFrame by extracting the unique features from the RDD\n",
    "schema = StructType([StructField(features[0], StringType(), False)] +\n",
    "                    [StructField(feature, IntegerType(), True) for feature in features[1:]])\n",
    "\n",
    "# This generates a row from name + abbreviation list in the data\n",
    "def gen_row(row):\n",
    "    vals = row.split(',')\n",
    "\n",
    "    # Vals[0] = name\n",
    "    return Row(*(vals[0],) + tuple(1 if feature in vals else 0 for feature in features[1:]))\n",
    "\n",
    "\n",
    "# Create the DataFrame from the RDD and schema\n",
    "df = spark.createDataFrame(rdd.map(gen_row, schema), schema=schema)\n",
    "\n",
    "# Show the first 15 columns and 5 first rows of the DataFrame\n",
    "df.select(df.columns[:15]).show(5, False)"
   ],
   "metadata": {
    "collapsed": false
   }
  },
  {
   "cell_type": "markdown",
   "source": [
    "### Visualizing dataset\n",
    "Show first 100 rows and the state abbreviations present for each as a binary image"
   ],
   "metadata": {
    "collapsed": false
   }
  },
  {
   "cell_type": "code",
   "execution_count": null,
   "outputs": [],
   "source": [
    "# Convert the DataFrame to a numpy array\n",
    "first_100 = df.select(features[1:]).take(100)\n",
    "\n",
    "# Plot binary matrix\n",
    "plt.figure(figsize =(10, 7))\n",
    "plt.imshow(first_100, cmap='binary')\n",
    "plt.show()\n",
    "\n",
    "del first_100"
   ],
   "metadata": {
    "collapsed": false
   }
  },
  {
   "cell_type": "markdown",
   "source": [
    "### Creating a correlation matrix between states"
   ],
   "metadata": {
    "collapsed": false
   }
  },
  {
   "cell_type": "code",
   "execution_count": null,
   "outputs": [],
   "source": [
    "# Convert to vector column first\n",
    "vector_col = \"corr_vector\"\n",
    "assembler = VectorAssembler(inputCols=df.columns[1:], outputCol=vector_col)\n",
    "df_vector = assembler.transform(df).select(vector_col)\n",
    "\n",
    "\n",
    "corr_matrix = Correlation.corr(df_vector, vector_col).collect()[0][0].toArray().tolist()\n",
    "corr_matrix_df = pd.DataFrame(data=corr_matrix, columns=state_abbreviations)\n",
    "\n",
    "sns.set(font_scale=1.5)\n",
    "\n",
    "mask = np.triu(np.ones_like(corr_matrix, dtype=bool))\n",
    "\n",
    "plt.figure(figsize=(40,35))\n",
    "sns.heatmap(corr_matrix_df,\n",
    "            mask=mask,\n",
    "            xticklabels=corr_matrix_df.columns.values,\n",
    "            yticklabels=corr_matrix_df.columns.values,  cmap=\"Greens\", annot=True, fmt=\".2f\", annot_kws={\"size\": 10})\n",
    "\n",
    "del vector_col\n",
    "del assembler\n",
    "del df_vector\n",
    "del corr_matrix\n",
    "del corr_matrix_df\n",
    "del mask"
   ],
   "metadata": {
    "collapsed": false
   }
  },
  {
   "cell_type": "markdown",
   "source": [
    "### KMeans clustering"
   ],
   "metadata": {
    "collapsed": false
   }
  },
  {
   "cell_type": "code",
   "execution_count": null,
   "outputs": [],
   "source": [
    "# Extract features for clustering (all columns except the first, which is the name of the plant)\n",
    "assembler = VectorAssembler(inputCols=df.columns[1:], outputCol=\"features\")\n",
    "df_feature_vector = assembler.transform(df)\n",
    "\n",
    "sum_squared_dist = []\n",
    "K = range(2, len(state_abbreviations) + 1)\n",
    "for k in tqdm(K):\n",
    "    # Train a KMeans model with the k number of clusters\n",
    "    kmeans = KMeans(k=k, seed=1)\n",
    "    model = kmeans.fit(df_feature_vector)\n",
    "\n",
    "    sum_squared_dist.append(model.summary.trainingCost)"
   ],
   "metadata": {
    "collapsed": false
   }
  },
  {
   "cell_type": "code",
   "execution_count": null,
   "outputs": [],
   "source": [
    "plt.figure(figsize =(10, 7))\n",
    "plt.plot(K, sum_squared_dist)\n",
    "plt.title('The Elbow Method')\n",
    "plt.xlabel('Number of clusters')\n",
    "plt.ylabel('Sum of squared distance to nearest centroid')\n",
    "plt.show()"
   ],
   "metadata": {
    "collapsed": false
   }
  },
  {
   "cell_type": "markdown",
   "source": [
    "Based on the plot we select k to be ..."
   ],
   "metadata": {
    "collapsed": false
   }
  },
  {
   "cell_type": "code",
   "execution_count": null,
   "outputs": [],
   "source": [
    "optimal_clusters = 16\n",
    "\n",
    "kmeans = KMeans(k=optimal_clusters, seed=1)\n",
    "model = kmeans.fit(df_feature_vector)\n",
    "\n",
    "# Predict the cluster for data point\n",
    "predictions = model.transform(df_feature_vector)\n",
    "\n",
    "# Show the resulting clusters\n",
    "predictions.groupBy(\"prediction\").count().show()"
   ],
   "metadata": {
    "collapsed": false
   }
  },
  {
   "cell_type": "code",
   "execution_count": null,
   "outputs": [],
   "source": [
    "pca = PCA(k=3, inputCol=\"features\")\n",
    "pca.setOutputCol(\"pca_features\")\n",
    "model = pca.fit(predictions)\n",
    "\n",
    "# Get the PCA features\n",
    "pca_features = model.transform(predictions)\n",
    "pca_features = pca_features.select(\"pca_features\")\n",
    "\n",
    "\n",
    "# Convert the PCA features to a numpy array\n",
    "pca_np = np.array([x.__getitem__(\"pca_features\") for x in pca_features.collect()])\n",
    "\n",
    "# Plot the first two principal components\n",
    "plt.scatter(pca_np[:, 0], pca_np[:, 1], c=predictions.select('prediction').collect(), cmap='viridis')\n",
    "plt.xlabel('PCA Component 1')\n",
    "plt.ylabel('PCA Component 2')\n",
    "plt.show()"
   ],
   "metadata": {
    "collapsed": false
   }
  },
  {
   "cell_type": "code",
   "execution_count": null,
   "outputs": [],
   "source": [
    "# To rotate plot use command below\n",
    "# %matplotlib notebook\n",
    "\n",
    "# Plot the first three principal components in 3D\n",
    "fig = plt.figure(figsize=(10, 7))\n",
    "ax = fig.add_subplot(projection='3d')\n",
    "ax.scatter(pca_np[:, 0], pca_np[:, 1], pca_np[:, 2], c=predictions.select('prediction').collect(), cmap='viridis')\n",
    "ax.set_xlabel('PCA Component 1')\n",
    "ax.set_ylabel('PCA Component 2')\n",
    "ax.set_zlabel('PCA Component 3')\n",
    "plt.show()"
   ],
   "metadata": {
    "collapsed": false
   }
  },
  {
   "cell_type": "markdown",
   "source": [
    "### FPGrowth\n"
   ],
   "metadata": {
    "collapsed": false
   }
  },
  {
   "cell_type": "code",
   "execution_count": null,
   "outputs": [],
   "source": [
    "del df\n",
    "del assembler\n",
    "del df_feature_vector\n",
    "del features\n",
    "del kmeans\n",
    "del model"
   ],
   "metadata": {
    "collapsed": false
   }
  },
  {
   "cell_type": "code",
   "execution_count": 7,
   "outputs": [
    {
     "name": "stdout",
     "output_type": "stream",
     "text": [
      "+--------------------+--------------------+\n",
      "|                name|              states|\n",
      "+--------------------+--------------------+\n",
      "|              abelia|            [fl, nc]|\n",
      "|abelia x grandiflora|            [fl, nc]|\n",
      "|         abelmoschus|[ct, dc, fl, hi, ...|\n",
      "|abelmoschus escul...|[ct, dc, fl, il, ...|\n",
      "|abelmoschus mosch...|            [hi, pr]|\n",
      "+--------------------+--------------------+\n",
      "only showing top 5 rows\n",
      "\n"
     ]
    },
    {
     "name": "stderr",
     "output_type": "stream",
     "text": [
      "                                                                                \r"
     ]
    },
    {
     "name": "stdout",
     "output_type": "stream",
     "text": [
      "+--------------------+----+\n",
      "|               items|freq|\n",
      "+--------------------+----+\n",
      "|                [ri]|3295|\n",
      "|            [ri, tn]|2461|\n",
      "|        [ri, tn, il]|2266|\n",
      "|    [ri, tn, il, nc]|2175|\n",
      "|[ri, tn, il, nc, ga]|1948|\n",
      "|    [ri, tn, il, pa]|2245|\n",
      "|[ri, tn, il, pa, nc]|2154|\n",
      "|[ri, tn, il, pa, ...|1931|\n",
      "|[ri, tn, il, pa, va]|2213|\n",
      "|[ri, tn, il, pa, ...|2141|\n",
      "|[ri, tn, il, pa, ...|1927|\n",
      "|[ri, tn, il, pa, ...|1941|\n",
      "|[ri, tn, il, pa, ...|1830|\n",
      "|[ri, tn, il, pa, ...|1811|\n",
      "|[ri, tn, il, pa, ...|1749|\n",
      "|[ri, tn, il, pa, ...|1758|\n",
      "|[ri, tn, il, pa, ...|1816|\n",
      "|[ri, tn, il, pa, ...|1797|\n",
      "|[ri, tn, il, pa, ...|1744|\n",
      "|[ri, tn, il, pa, ...|2196|\n",
      "+--------------------+----+\n",
      "only showing top 20 rows\n",
      "\n"
     ]
    },
    {
     "name": "stderr",
     "output_type": "stream",
     "text": [
      "[Stage 11:>                                                         (0 + 1) / 1]\r"
     ]
    },
    {
     "name": "stdout",
     "output_type": "stream",
     "text": [
      "23/02/15 02:14:38 WARN Executor: Managed memory leak detected; size = 1099442073 bytes, task 0.0 in stage 11.0 (TID 17)\n",
      "+--------------------+----------+------------------+-----------------+--------------------+\n",
      "|          antecedent|consequent|        confidence|             lift|             support|\n",
      "+--------------------+----------+------------------+-----------------+--------------------+\n",
      "|[dc, de, ky, ar, ...|      [tn]| 0.997155858930603|7.077975087645981| 0.05040108104999856|\n",
      "|[dc, de, ky, ar, ...|      [va]|               1.0|6.169031571479247|0.050544837698743565|\n",
      "|[ct, ky, ar, mo, ...|      [pa]|0.9948600799543118|6.321196280761951|0.050084816422759554|\n",
      "|[ct, ky, ar, mo, ...|      [va]|0.9954311821816105|6.140846390113266| 0.05011356775250855|\n",
      "|[ct, ky, ar, tn, ...|      [wv]|0.9647771051183269|8.260933651679105| 0.05040108104999856|\n",
      "|[ct, ky, ar, tn, ...|      [il]|0.9752339020363237| 6.56466234695672| 0.05094735631522958|\n",
      "|[ct, ky, ar, tn, ...|      [va]|0.9994496422674739|6.165636397251687| 0.05221241482418562|\n",
      "|[ct, ky, ar, tn, ...|      [ny]|0.9889928453494772|5.958454902840839|0.051666139558954605|\n",
      "|[ct, ky, ar, tn, ...|      [ma]|0.9592735277930655|6.722646095138145| 0.05011356775250855|\n",
      "|[ct, ky, ar, tn, ...|      [oh]|0.9834892680242158|7.168218824633329| 0.05137862626146459|\n",
      "|[ct, ky, ar, tn, ...|      [nj]|0.9845899834892681|7.101829990821285|0.051436128920962595|\n",
      "|[ct, ky, ar, tn, ...|      [mo]|0.9642267473858007|7.230869016995588| 0.05037232972024956|\n",
      "|[ct, ky, ar, tn, ...|      [in]|0.9702806824435883| 7.60075054416001| 0.05068859434748857|\n",
      "|[wi, ct, in, nj, ...|      [wv]|0.9595407326407873|8.216097051201187| 0.05045858370949657|\n",
      "|[wi, ct, in, nj, ...|      [ky]|0.9721159103335156| 7.42286794232931| 0.05111986429372359|\n",
      "|[wi, ct, in, nj, ...|      [oh]|0.9934390377255331|7.240738300740102| 0.05224116615393462|\n",
      "|[wi, ct, in, nj, ...|      [tn]|0.9644614543466375|6.845904866047021|0.050717345677237576|\n",
      "|[wi, ct, in, nj, ...|      [pa]|0.9950792782941498|6.322589035138623| 0.05232742014318162|\n",
      "|[wi, ct, in, nj, ...|      [nc]|0.9917987971569163|5.821085717839134|0.052154912164687615|\n",
      "|[wi, ct, in, nj, ...|      [ny]|0.9994532531437944|6.021476458963159| 0.05255743078117363|\n",
      "+--------------------+----------+------------------+-----------------+--------------------+\n",
      "only showing top 20 rows\n",
      "\n"
     ]
    },
    {
     "name": "stderr",
     "output_type": "stream",
     "text": [
      "                                                                                \r"
     ]
    }
   ],
   "source": [
    "# This generates a row from name + abbreviation list in the data\n",
    "def gen_row(row):\n",
    "    vals = row.split(\",\")\n",
    "    return Row(vals[0], vals[1:])\n",
    "\n",
    "schema = StructType([StructField(\"name\", StringType(), False),\n",
    "                     StructField(\"states\", ArrayType(StringType()), False)])\n",
    "\n",
    "# Create the DataFrame from the RDD and schema\n",
    "df_transactions = spark.createDataFrame(rdd.map(gen_row, schema), schema=schema)\n",
    "\n",
    "df_transactions.show(5)\n",
    "\n",
    "\n",
    "# Define the FPGrowth model\n",
    "fpGrowth = FPGrowth(itemsCol=\"states\", minSupport=0.05, minConfidence=0.9)\n",
    "\n",
    "# Fit the FPGrowth model on the transactions data\n",
    "model = fpGrowth.fit(df_transactions)\n",
    "\n",
    "# Extract the frequent item sets from the model\n",
    "frequent_item_sets = model.freqItemsets\n",
    "frequent_item_sets.show(20)\n",
    "\n",
    "# Extract the association rules from the frequent item sets\n",
    "associationRules = model.associationRules\n",
    "associationRules.show(20)"
   ],
   "metadata": {
    "collapsed": false
   }
  },
  {
   "cell_type": "code",
   "execution_count": 9,
   "outputs": [
    {
     "ename": "ConnectionRefusedError",
     "evalue": "[Errno 61] Connection refused",
     "output_type": "error",
     "traceback": [
      "\u001B[0;31m---------------------------------------------------------------------------\u001B[0m",
      "\u001B[0;31mConnectionRefusedError\u001B[0m                    Traceback (most recent call last)",
      "Input \u001B[0;32mIn [9]\u001B[0m, in \u001B[0;36m<cell line: 29>\u001B[0;34m()\u001B[0m\n\u001B[1;32m     26\u001B[0m     \u001B[38;5;66;03m# Return True if the p-value is less than a significance level (e.g. 0.05)\u001B[39;00m\n\u001B[1;32m     27\u001B[0m     \u001B[38;5;28;01mreturn\u001B[39;00m p_value \u001B[38;5;241m<\u001B[39m \u001B[38;5;241m0.05\u001B[39m\n\u001B[0;32m---> 29\u001B[0m associationRules \u001B[38;5;241m=\u001B[39m associationRules\u001B[38;5;241m.\u001B[39mfilter(\u001B[43mchi_squared_test\u001B[49m\u001B[43m(\u001B[49m\u001B[38;5;124;43m'\u001B[39;49m\u001B[38;5;124;43mantecedent\u001B[39;49m\u001B[38;5;124;43m'\u001B[39;49m\u001B[43m,\u001B[49m\u001B[43m \u001B[49m\u001B[38;5;124;43m'\u001B[39;49m\u001B[38;5;124;43mconsequent\u001B[39;49m\u001B[38;5;124;43m'\u001B[39;49m\u001B[43m)\u001B[49m)\n\u001B[1;32m     30\u001B[0m associationRules\u001B[38;5;241m.\u001B[39mshow(\u001B[38;5;241m50\u001B[39m)\n",
      "File \u001B[0;32m/opt/homebrew/Caskroom/miniforge/base/envs/BDA-project/lib/python3.10/site-packages/pyspark/sql/udf.py:276\u001B[0m, in \u001B[0;36mUserDefinedFunction._wrapped.<locals>.wrapper\u001B[0;34m(*args)\u001B[0m\n\u001B[1;32m    274\u001B[0m \u001B[38;5;129m@functools\u001B[39m\u001B[38;5;241m.\u001B[39mwraps(\u001B[38;5;28mself\u001B[39m\u001B[38;5;241m.\u001B[39mfunc, assigned\u001B[38;5;241m=\u001B[39massignments)\n\u001B[1;32m    275\u001B[0m \u001B[38;5;28;01mdef\u001B[39;00m \u001B[38;5;21mwrapper\u001B[39m(\u001B[38;5;241m*\u001B[39margs: \u001B[38;5;124m\"\u001B[39m\u001B[38;5;124mColumnOrName\u001B[39m\u001B[38;5;124m\"\u001B[39m) \u001B[38;5;241m-\u001B[39m\u001B[38;5;241m>\u001B[39m Column:\n\u001B[0;32m--> 276\u001B[0m     \u001B[38;5;28;01mreturn\u001B[39;00m \u001B[38;5;28;43mself\u001B[39;49m\u001B[43m(\u001B[49m\u001B[38;5;241;43m*\u001B[39;49m\u001B[43margs\u001B[49m\u001B[43m)\u001B[49m\n",
      "File \u001B[0;32m/opt/homebrew/Caskroom/miniforge/base/envs/BDA-project/lib/python3.10/site-packages/pyspark/sql/udf.py:249\u001B[0m, in \u001B[0;36mUserDefinedFunction.__call__\u001B[0;34m(self, *cols)\u001B[0m\n\u001B[1;32m    247\u001B[0m     judf \u001B[38;5;241m=\u001B[39m \u001B[38;5;28mself\u001B[39m\u001B[38;5;241m.\u001B[39m_create_judf(func)\n\u001B[1;32m    248\u001B[0m \u001B[38;5;28;01melse\u001B[39;00m:\n\u001B[0;32m--> 249\u001B[0m     judf \u001B[38;5;241m=\u001B[39m \u001B[38;5;28;43mself\u001B[39;49m\u001B[38;5;241;43m.\u001B[39;49m\u001B[43m_judf\u001B[49m\n\u001B[1;32m    251\u001B[0m jPythonUDF \u001B[38;5;241m=\u001B[39m judf\u001B[38;5;241m.\u001B[39mapply(_to_seq(sc, cols, _to_java_column))\n\u001B[1;32m    252\u001B[0m \u001B[38;5;28;01mif\u001B[39;00m profiler \u001B[38;5;129;01mis\u001B[39;00m \u001B[38;5;129;01mnot\u001B[39;00m \u001B[38;5;28;01mNone\u001B[39;00m:\n",
      "File \u001B[0;32m/opt/homebrew/Caskroom/miniforge/base/envs/BDA-project/lib/python3.10/site-packages/pyspark/sql/udf.py:215\u001B[0m, in \u001B[0;36mUserDefinedFunction._judf\u001B[0;34m(self)\u001B[0m\n\u001B[1;32m    208\u001B[0m \u001B[38;5;129m@property\u001B[39m\n\u001B[1;32m    209\u001B[0m \u001B[38;5;28;01mdef\u001B[39;00m \u001B[38;5;21m_judf\u001B[39m(\u001B[38;5;28mself\u001B[39m) \u001B[38;5;241m-\u001B[39m\u001B[38;5;241m>\u001B[39m JavaObject:\n\u001B[1;32m    210\u001B[0m     \u001B[38;5;66;03m# It is possible that concurrent access, to newly created UDF,\u001B[39;00m\n\u001B[1;32m    211\u001B[0m     \u001B[38;5;66;03m# will initialize multiple UserDefinedPythonFunctions.\u001B[39;00m\n\u001B[1;32m    212\u001B[0m     \u001B[38;5;66;03m# This is unlikely, doesn't affect correctness,\u001B[39;00m\n\u001B[1;32m    213\u001B[0m     \u001B[38;5;66;03m# and should have a minimal performance impact.\u001B[39;00m\n\u001B[1;32m    214\u001B[0m     \u001B[38;5;28;01mif\u001B[39;00m \u001B[38;5;28mself\u001B[39m\u001B[38;5;241m.\u001B[39m_judf_placeholder \u001B[38;5;129;01mis\u001B[39;00m \u001B[38;5;28;01mNone\u001B[39;00m:\n\u001B[0;32m--> 215\u001B[0m         \u001B[38;5;28mself\u001B[39m\u001B[38;5;241m.\u001B[39m_judf_placeholder \u001B[38;5;241m=\u001B[39m \u001B[38;5;28;43mself\u001B[39;49m\u001B[38;5;241;43m.\u001B[39;49m\u001B[43m_create_judf\u001B[49m\u001B[43m(\u001B[49m\u001B[38;5;28;43mself\u001B[39;49m\u001B[38;5;241;43m.\u001B[39;49m\u001B[43mfunc\u001B[49m\u001B[43m)\u001B[49m\n\u001B[1;32m    216\u001B[0m     \u001B[38;5;28;01mreturn\u001B[39;00m \u001B[38;5;28mself\u001B[39m\u001B[38;5;241m.\u001B[39m_judf_placeholder\n",
      "File \u001B[0;32m/opt/homebrew/Caskroom/miniforge/base/envs/BDA-project/lib/python3.10/site-packages/pyspark/sql/udf.py:221\u001B[0m, in \u001B[0;36mUserDefinedFunction._create_judf\u001B[0;34m(self, func)\u001B[0m\n\u001B[1;32m    218\u001B[0m \u001B[38;5;28;01mdef\u001B[39;00m \u001B[38;5;21m_create_judf\u001B[39m(\u001B[38;5;28mself\u001B[39m, func: Callable[\u001B[38;5;241m.\u001B[39m\u001B[38;5;241m.\u001B[39m\u001B[38;5;241m.\u001B[39m, Any]) \u001B[38;5;241m-\u001B[39m\u001B[38;5;241m>\u001B[39m JavaObject:\n\u001B[1;32m    219\u001B[0m     \u001B[38;5;28;01mfrom\u001B[39;00m \u001B[38;5;21;01mpyspark\u001B[39;00m\u001B[38;5;21;01m.\u001B[39;00m\u001B[38;5;21;01msql\u001B[39;00m \u001B[38;5;28;01mimport\u001B[39;00m SparkSession\n\u001B[0;32m--> 221\u001B[0m     spark \u001B[38;5;241m=\u001B[39m \u001B[43mSparkSession\u001B[49m\u001B[38;5;241;43m.\u001B[39;49m\u001B[43m_getActiveSessionOrCreate\u001B[49m\u001B[43m(\u001B[49m\u001B[43m)\u001B[49m\n\u001B[1;32m    222\u001B[0m     sc \u001B[38;5;241m=\u001B[39m spark\u001B[38;5;241m.\u001B[39msparkContext\n\u001B[1;32m    224\u001B[0m     wrapped_func \u001B[38;5;241m=\u001B[39m _wrap_function(sc, func, \u001B[38;5;28mself\u001B[39m\u001B[38;5;241m.\u001B[39mreturnType)\n",
      "File \u001B[0;32m/opt/homebrew/Caskroom/miniforge/base/envs/BDA-project/lib/python3.10/site-packages/pyspark/sql/session.py:688\u001B[0m, in \u001B[0;36mSparkSession._getActiveSessionOrCreate\u001B[0;34m(**static_conf)\u001B[0m\n\u001B[1;32m    679\u001B[0m \u001B[38;5;129m@staticmethod\u001B[39m\n\u001B[1;32m    680\u001B[0m \u001B[38;5;28;01mdef\u001B[39;00m \u001B[38;5;21m_getActiveSessionOrCreate\u001B[39m(\u001B[38;5;241m*\u001B[39m\u001B[38;5;241m*\u001B[39mstatic_conf: Any) \u001B[38;5;241m-\u001B[39m\u001B[38;5;241m>\u001B[39m \u001B[38;5;124m\"\u001B[39m\u001B[38;5;124mSparkSession\u001B[39m\u001B[38;5;124m\"\u001B[39m:\n\u001B[1;32m    681\u001B[0m     \u001B[38;5;124;03m\"\"\"\u001B[39;00m\n\u001B[1;32m    682\u001B[0m \u001B[38;5;124;03m    Returns the active :class:`SparkSession` for the current thread, returned by the builder,\u001B[39;00m\n\u001B[1;32m    683\u001B[0m \u001B[38;5;124;03m    or if there is no existing one, creates a new one based on the options set in the builder.\u001B[39;00m\n\u001B[0;32m   (...)\u001B[0m\n\u001B[1;32m    686\u001B[0m \u001B[38;5;124;03m    running.\u001B[39;00m\n\u001B[1;32m    687\u001B[0m \u001B[38;5;124;03m    \"\"\"\u001B[39;00m\n\u001B[0;32m--> 688\u001B[0m     spark \u001B[38;5;241m=\u001B[39m \u001B[43mSparkSession\u001B[49m\u001B[38;5;241;43m.\u001B[39;49m\u001B[43mgetActiveSession\u001B[49m\u001B[43m(\u001B[49m\u001B[43m)\u001B[49m\n\u001B[1;32m    689\u001B[0m     \u001B[38;5;28;01mif\u001B[39;00m spark \u001B[38;5;129;01mis\u001B[39;00m \u001B[38;5;28;01mNone\u001B[39;00m:\n\u001B[1;32m    690\u001B[0m         builder \u001B[38;5;241m=\u001B[39m SparkSession\u001B[38;5;241m.\u001B[39mbuilder\n",
      "File \u001B[0;32m/opt/homebrew/Caskroom/miniforge/base/envs/BDA-project/lib/python3.10/site-packages/pyspark/sql/session.py:381\u001B[0m, in \u001B[0;36mSparkSession.getActiveSession\u001B[0;34m(cls)\u001B[0m\n\u001B[1;32m    379\u001B[0m \u001B[38;5;28;01melse\u001B[39;00m:\n\u001B[1;32m    380\u001B[0m     \u001B[38;5;28;01massert\u001B[39;00m sc\u001B[38;5;241m.\u001B[39m_jvm \u001B[38;5;129;01mis\u001B[39;00m \u001B[38;5;129;01mnot\u001B[39;00m \u001B[38;5;28;01mNone\u001B[39;00m\n\u001B[0;32m--> 381\u001B[0m     \u001B[38;5;28;01mif\u001B[39;00m \u001B[43msc\u001B[49m\u001B[38;5;241;43m.\u001B[39;49m\u001B[43m_jvm\u001B[49m\u001B[38;5;241;43m.\u001B[39;49m\u001B[43mSparkSession\u001B[49m\u001B[38;5;241m.\u001B[39mgetActiveSession()\u001B[38;5;241m.\u001B[39misDefined():\n\u001B[1;32m    382\u001B[0m         SparkSession(sc, sc\u001B[38;5;241m.\u001B[39m_jvm\u001B[38;5;241m.\u001B[39mSparkSession\u001B[38;5;241m.\u001B[39mgetActiveSession()\u001B[38;5;241m.\u001B[39mget())\n\u001B[1;32m    383\u001B[0m         \u001B[38;5;28;01mreturn\u001B[39;00m SparkSession\u001B[38;5;241m.\u001B[39m_activeSession\n",
      "File \u001B[0;32m/opt/homebrew/Caskroom/miniforge/base/envs/BDA-project/lib/python3.10/site-packages/py4j/java_gateway.py:1709\u001B[0m, in \u001B[0;36mJVMView.__getattr__\u001B[0;34m(self, name)\u001B[0m\n\u001B[1;32m   1706\u001B[0m \u001B[38;5;28;01mif\u001B[39;00m name \u001B[38;5;241m==\u001B[39m UserHelpAutoCompletion\u001B[38;5;241m.\u001B[39mKEY:\n\u001B[1;32m   1707\u001B[0m     \u001B[38;5;28;01mreturn\u001B[39;00m UserHelpAutoCompletion()\n\u001B[0;32m-> 1709\u001B[0m answer \u001B[38;5;241m=\u001B[39m \u001B[38;5;28;43mself\u001B[39;49m\u001B[38;5;241;43m.\u001B[39;49m\u001B[43m_gateway_client\u001B[49m\u001B[38;5;241;43m.\u001B[39;49m\u001B[43msend_command\u001B[49m\u001B[43m(\u001B[49m\n\u001B[1;32m   1710\u001B[0m \u001B[43m    \u001B[49m\u001B[43mproto\u001B[49m\u001B[38;5;241;43m.\u001B[39;49m\u001B[43mREFLECTION_COMMAND_NAME\u001B[49m\u001B[43m \u001B[49m\u001B[38;5;241;43m+\u001B[39;49m\n\u001B[1;32m   1711\u001B[0m \u001B[43m    \u001B[49m\u001B[43mproto\u001B[49m\u001B[38;5;241;43m.\u001B[39;49m\u001B[43mREFL_GET_UNKNOWN_SUB_COMMAND_NAME\u001B[49m\u001B[43m \u001B[49m\u001B[38;5;241;43m+\u001B[39;49m\u001B[43m \u001B[49m\u001B[43mname\u001B[49m\u001B[43m \u001B[49m\u001B[38;5;241;43m+\u001B[39;49m\u001B[43m \u001B[49m\u001B[38;5;124;43m\"\u001B[39;49m\u001B[38;5;130;43;01m\\n\u001B[39;49;00m\u001B[38;5;124;43m\"\u001B[39;49m\u001B[43m \u001B[49m\u001B[38;5;241;43m+\u001B[39;49m\u001B[43m \u001B[49m\u001B[38;5;28;43mself\u001B[39;49m\u001B[38;5;241;43m.\u001B[39;49m\u001B[43m_id\u001B[49m\u001B[43m \u001B[49m\u001B[38;5;241;43m+\u001B[39;49m\n\u001B[1;32m   1712\u001B[0m \u001B[43m    \u001B[49m\u001B[38;5;124;43m\"\u001B[39;49m\u001B[38;5;130;43;01m\\n\u001B[39;49;00m\u001B[38;5;124;43m\"\u001B[39;49m\u001B[43m \u001B[49m\u001B[38;5;241;43m+\u001B[39;49m\u001B[43m \u001B[49m\u001B[43mproto\u001B[49m\u001B[38;5;241;43m.\u001B[39;49m\u001B[43mEND_COMMAND_PART\u001B[49m\u001B[43m)\u001B[49m\n\u001B[1;32m   1713\u001B[0m \u001B[38;5;28;01mif\u001B[39;00m answer \u001B[38;5;241m==\u001B[39m proto\u001B[38;5;241m.\u001B[39mSUCCESS_PACKAGE:\n\u001B[1;32m   1714\u001B[0m     \u001B[38;5;28;01mreturn\u001B[39;00m JavaPackage(name, \u001B[38;5;28mself\u001B[39m\u001B[38;5;241m.\u001B[39m_gateway_client, jvm_id\u001B[38;5;241m=\u001B[39m\u001B[38;5;28mself\u001B[39m\u001B[38;5;241m.\u001B[39m_id)\n",
      "File \u001B[0;32m/opt/homebrew/Caskroom/miniforge/base/envs/BDA-project/lib/python3.10/site-packages/py4j/java_gateway.py:1036\u001B[0m, in \u001B[0;36mGatewayClient.send_command\u001B[0;34m(self, command, retry, binary)\u001B[0m\n\u001B[1;32m   1015\u001B[0m \u001B[38;5;28;01mdef\u001B[39;00m \u001B[38;5;21msend_command\u001B[39m(\u001B[38;5;28mself\u001B[39m, command, retry\u001B[38;5;241m=\u001B[39m\u001B[38;5;28;01mTrue\u001B[39;00m, binary\u001B[38;5;241m=\u001B[39m\u001B[38;5;28;01mFalse\u001B[39;00m):\n\u001B[1;32m   1016\u001B[0m     \u001B[38;5;124;03m\"\"\"Sends a command to the JVM. This method is not intended to be\u001B[39;00m\n\u001B[1;32m   1017\u001B[0m \u001B[38;5;124;03m       called directly by Py4J users. It is usually called by\u001B[39;00m\n\u001B[1;32m   1018\u001B[0m \u001B[38;5;124;03m       :class:`JavaMember` instances.\u001B[39;00m\n\u001B[0;32m   (...)\u001B[0m\n\u001B[1;32m   1034\u001B[0m \u001B[38;5;124;03m     if `binary` is `True`.\u001B[39;00m\n\u001B[1;32m   1035\u001B[0m \u001B[38;5;124;03m    \"\"\"\u001B[39;00m\n\u001B[0;32m-> 1036\u001B[0m     connection \u001B[38;5;241m=\u001B[39m \u001B[38;5;28;43mself\u001B[39;49m\u001B[38;5;241;43m.\u001B[39;49m\u001B[43m_get_connection\u001B[49m\u001B[43m(\u001B[49m\u001B[43m)\u001B[49m\n\u001B[1;32m   1037\u001B[0m     \u001B[38;5;28;01mtry\u001B[39;00m:\n\u001B[1;32m   1038\u001B[0m         response \u001B[38;5;241m=\u001B[39m connection\u001B[38;5;241m.\u001B[39msend_command(command)\n",
      "File \u001B[0;32m/opt/homebrew/Caskroom/miniforge/base/envs/BDA-project/lib/python3.10/site-packages/py4j/clientserver.py:284\u001B[0m, in \u001B[0;36mJavaClient._get_connection\u001B[0;34m(self)\u001B[0m\n\u001B[1;32m    281\u001B[0m     \u001B[38;5;28;01mpass\u001B[39;00m\n\u001B[1;32m    283\u001B[0m \u001B[38;5;28;01mif\u001B[39;00m connection \u001B[38;5;129;01mis\u001B[39;00m \u001B[38;5;28;01mNone\u001B[39;00m \u001B[38;5;129;01mor\u001B[39;00m connection\u001B[38;5;241m.\u001B[39msocket \u001B[38;5;129;01mis\u001B[39;00m \u001B[38;5;28;01mNone\u001B[39;00m:\n\u001B[0;32m--> 284\u001B[0m     connection \u001B[38;5;241m=\u001B[39m \u001B[38;5;28;43mself\u001B[39;49m\u001B[38;5;241;43m.\u001B[39;49m\u001B[43m_create_new_connection\u001B[49m\u001B[43m(\u001B[49m\u001B[43m)\u001B[49m\n\u001B[1;32m    285\u001B[0m \u001B[38;5;28;01mreturn\u001B[39;00m connection\n",
      "File \u001B[0;32m/opt/homebrew/Caskroom/miniforge/base/envs/BDA-project/lib/python3.10/site-packages/py4j/clientserver.py:291\u001B[0m, in \u001B[0;36mJavaClient._create_new_connection\u001B[0;34m(self)\u001B[0m\n\u001B[1;32m    287\u001B[0m \u001B[38;5;28;01mdef\u001B[39;00m \u001B[38;5;21m_create_new_connection\u001B[39m(\u001B[38;5;28mself\u001B[39m):\n\u001B[1;32m    288\u001B[0m     connection \u001B[38;5;241m=\u001B[39m ClientServerConnection(\n\u001B[1;32m    289\u001B[0m         \u001B[38;5;28mself\u001B[39m\u001B[38;5;241m.\u001B[39mjava_parameters, \u001B[38;5;28mself\u001B[39m\u001B[38;5;241m.\u001B[39mpython_parameters,\n\u001B[1;32m    290\u001B[0m         \u001B[38;5;28mself\u001B[39m\u001B[38;5;241m.\u001B[39mgateway_property, \u001B[38;5;28mself\u001B[39m)\n\u001B[0;32m--> 291\u001B[0m     \u001B[43mconnection\u001B[49m\u001B[38;5;241;43m.\u001B[39;49m\u001B[43mconnect_to_java_server\u001B[49m\u001B[43m(\u001B[49m\u001B[43m)\u001B[49m\n\u001B[1;32m    292\u001B[0m     \u001B[38;5;28mself\u001B[39m\u001B[38;5;241m.\u001B[39mset_thread_connection(connection)\n\u001B[1;32m    293\u001B[0m     \u001B[38;5;28;01mreturn\u001B[39;00m connection\n",
      "File \u001B[0;32m/opt/homebrew/Caskroom/miniforge/base/envs/BDA-project/lib/python3.10/site-packages/py4j/clientserver.py:438\u001B[0m, in \u001B[0;36mClientServerConnection.connect_to_java_server\u001B[0;34m(self)\u001B[0m\n\u001B[1;32m    435\u001B[0m \u001B[38;5;28;01mif\u001B[39;00m \u001B[38;5;28mself\u001B[39m\u001B[38;5;241m.\u001B[39mssl_context:\n\u001B[1;32m    436\u001B[0m     \u001B[38;5;28mself\u001B[39m\u001B[38;5;241m.\u001B[39msocket \u001B[38;5;241m=\u001B[39m \u001B[38;5;28mself\u001B[39m\u001B[38;5;241m.\u001B[39mssl_context\u001B[38;5;241m.\u001B[39mwrap_socket(\n\u001B[1;32m    437\u001B[0m         \u001B[38;5;28mself\u001B[39m\u001B[38;5;241m.\u001B[39msocket, server_hostname\u001B[38;5;241m=\u001B[39m\u001B[38;5;28mself\u001B[39m\u001B[38;5;241m.\u001B[39mjava_address)\n\u001B[0;32m--> 438\u001B[0m \u001B[38;5;28;43mself\u001B[39;49m\u001B[38;5;241;43m.\u001B[39;49m\u001B[43msocket\u001B[49m\u001B[38;5;241;43m.\u001B[39;49m\u001B[43mconnect\u001B[49m\u001B[43m(\u001B[49m\u001B[43m(\u001B[49m\u001B[38;5;28;43mself\u001B[39;49m\u001B[38;5;241;43m.\u001B[39;49m\u001B[43mjava_address\u001B[49m\u001B[43m,\u001B[49m\u001B[43m \u001B[49m\u001B[38;5;28;43mself\u001B[39;49m\u001B[38;5;241;43m.\u001B[39;49m\u001B[43mjava_port\u001B[49m\u001B[43m)\u001B[49m\u001B[43m)\u001B[49m\n\u001B[1;32m    439\u001B[0m \u001B[38;5;28mself\u001B[39m\u001B[38;5;241m.\u001B[39mstream \u001B[38;5;241m=\u001B[39m \u001B[38;5;28mself\u001B[39m\u001B[38;5;241m.\u001B[39msocket\u001B[38;5;241m.\u001B[39mmakefile(\u001B[38;5;124m\"\u001B[39m\u001B[38;5;124mrb\u001B[39m\u001B[38;5;124m\"\u001B[39m)\n\u001B[1;32m    440\u001B[0m \u001B[38;5;28mself\u001B[39m\u001B[38;5;241m.\u001B[39mis_connected \u001B[38;5;241m=\u001B[39m \u001B[38;5;28;01mTrue\u001B[39;00m\n",
      "\u001B[0;31mConnectionRefusedError\u001B[0m: [Errno 61] Connection refused"
     ]
    }
   ],
   "source": [
    "@udf(returnType=BooleanType())\n",
    "def chi_squared_test(antecedent, consequent):\n",
    "\n",
    "    # Filter the transactions that contain the antecedent\n",
    "    antecedent_transactions = df_transactions.filter(lambda x: all(item in x for item in antecedent))\n",
    "\n",
    "    # Count the number of transactions that contain both the antecedent and the consequent\n",
    "    antecedent_and_consequent_transactions = antecedent_transactions.filter(lambda x: consequent in x).count()\n",
    "\n",
    "    # Count the number of transactions that contain the antecedent\n",
    "    antecedent_transactions_count = antecedent_transactions.count()\n",
    "\n",
    "    # Count the number of transactions that contain the consequent\n",
    "    consequent_transactions_count = df_transactions.filter(lambda x: consequent in x).count()\n",
    "\n",
    "    # Count the total number of transactions\n",
    "    total_transactions_count = df_transactions.count()\n",
    "\n",
    "    # Compute the contingency table for the rule\n",
    "    contingency_table = [[antecedent_and_consequent_transactions, antecedent_transactions_count - antecedent_and_consequent_transactions],\n",
    "                       [consequent_transactions_count - antecedent_and_consequent_transactions, total_transactions_count - antecedent_transactions_count - consequent_transactions_count + antecedent_and_consequent_transactions]]\n",
    "\n",
    "    # Compute the chi-squared test statistic and p-value\n",
    "    test_statistic, p_value, _, _ = chi2_contingency(contingency_table)\n",
    "\n",
    "    # Return True if the p-value is less than a significance level (e.g. 0.05)\n",
    "    return p_value < 0.05\n",
    "\n",
    "associationRules = associationRules.collect().filter(chi_squared_test('antecedent', 'consequent'))\n",
    "associationRules.show(50)"
   ],
   "metadata": {
    "collapsed": false
   }
  }
 ],
 "metadata": {
  "kernelspec": {
   "display_name": "Python 3",
   "language": "python",
   "name": "python3"
  },
  "language_info": {
   "codemirror_mode": {
    "name": "ipython",
    "version": 2
   },
   "file_extension": ".py",
   "mimetype": "text/x-python",
   "name": "python",
   "nbconvert_exporter": "python",
   "pygments_lexer": "ipython2",
   "version": "2.7.6"
  }
 },
 "nbformat": 4,
 "nbformat_minor": 0
}
